{
 "cells": [
  {
   "cell_type": "code",
   "execution_count": 1,
   "metadata": {},
   "outputs": [],
   "source": [
    "import numpy as np "
   ]
  },
  {
   "cell_type": "code",
   "execution_count": 2,
   "metadata": {},
   "outputs": [],
   "source": [
    "from utils import generate_inputs_test as gen, adam, initialize_adam"
   ]
  },
  {
   "cell_type": "code",
   "execution_count": 3,
   "metadata": {},
   "outputs": [],
   "source": [
    "def params_init(nx : int, seed : int = None):\n",
    "\n",
    "    # generate the sample random numbers \n",
    "    if seed : np.random.seed(seed=seed)\n",
    "    # initializing params as python dictionary \n",
    "    params = {}\n",
    "\n",
    "    # creating weight and bias for one neuron\n",
    "    # as we said to the README file we just have one neuron (binary classification)\n",
    "    ny = 1\n",
    "    for i in range(ny):\n",
    "        params[f'W{i+1}'] = np.random.randn(1, nx) * 0.01\n",
    "        params[f'b{i+1}'] = np.zeros((1, 1))\n",
    "\n",
    "    # returning the output as a dictionary\n",
    "    return params "
   ]
  },
  {
   "cell_type": "code",
   "execution_count": 4,
   "metadata": {},
   "outputs": [],
   "source": [
    "def sigmoid(x : int):\n",
    "    # computing sigmoid function for a given value x \n",
    "\n",
    "    sig = 1. / (1 + np.exp(-x))\n",
    "\n",
    "    return sig "
   ]
  },
  {
   "cell_type": "code",
   "execution_count": 5,
   "metadata": {},
   "outputs": [],
   "source": [
    "def forward_propagation(X : np.ndarray, params : dict):\n",
    "    # layers \n",
    "    layers = len(list(params.keys())) // 2\n",
    "\n",
    "    # linearity & prediction \n",
    "    # Z = W.dot(X) + b\n",
    "    # A = sigmoid(Z)\n",
    "    Z, A = {},{}\n",
    "  \n",
    "    for layer in range(layers):\n",
    "        # linearity\n",
    "        Z[layer+1] = params[f\"W{layer+1}\"].dot(X) + params[f'b{layer+1}']\n",
    "        # prediction\n",
    "        A[layer+1] = sigmoid(x=Z[layer+1])\n",
    "    \n",
    "    cache = {\"Z\" : Z, \"A\" : A}\n",
    "\n",
    "    return A[layer+1], cache "
   ]
  },
  {
   "cell_type": "code",
   "execution_count": 6,
   "metadata": {},
   "outputs": [],
   "source": [
    "def cost_function(A : np.ndarray, Y: np.ndarray):\n",
    "    \"\"\"\n",
    "    Computes the cross-entropy cost given in equation (13)\n",
    "    \n",
    "    Arguments:\n",
    "    * A -- The activation output of the last layer, of shape (sy, m)\n",
    "    * Y -- \"true\" labels vector of shape (ny, m)\n",
    "\n",
    "    in the case of binary classification ny = 1\n",
    "    Returns:\n",
    "    cost -- cross-entropy cost given equation (13)\n",
    "    \n",
    "    A.shape = \n",
    "    Y.shape = (1, ny)\n",
    "    \"\"\"\n",
    "    \n",
    "    m       = Y.shape[1] \n",
    "    cost    = (1./m) * (-np.dot(Y, np.log(A).T) - np.dot(1-Y, np.log(1-A).T))\n",
    "    # np.squeeze(cost) --> np.squeeze([[1]]) = 1.0\n",
    "    cost    = float(np.squeeze(cost))   \n",
    "                                    \n",
    "    return cost"
   ]
  },
  {
   "cell_type": "code",
   "execution_count": 7,
   "metadata": {},
   "outputs": [],
   "source": [
    "def backward_propagation(\n",
    "        params  : dict, \n",
    "        cache   : dict, \n",
    "        X       : np.ndarray, \n",
    "        Y       : np.ndarray\n",
    "        ):\n",
    "    \n",
    "    \"\"\"\n",
    "    Implement the backward propagation using the instructions above.\n",
    "    \n",
    "    Arguments:\n",
    "    params -- python dictionary containing our parameters \n",
    "    cache -- a dictionary containing A, and Z (activations and linear calculations).\n",
    "    X -- input data of shape (nx, number of examples)\n",
    "    Y -- \"true\" labels vector of shape (ny, number of examples)\n",
    "    \n",
    "    Returns:\n",
    "    grads -- python dictionary containing your gradients with respect to different parameters\n",
    "    \"\"\"\n",
    "    # nomber of sample \n",
    "    m       = X.shape[1]\n",
    "    # intialize gradient \n",
    "    grads   = {}\n",
    "    # restoring activation & linearity from cache \n",
    "    A, Z    = cache['A'], cache['Z']  \n",
    "    # computing the number of layers \n",
    "    layers  = len(list(params.keys())) // 2\n",
    "\n",
    "    # updating gradient \n",
    "    # dZ = A[layers] - Y\n",
    "    grads[f'dZ{layers}'] = A[layers] - Y\n",
    "    # dW = dZ.dot(X.T)\n",
    "    grads[f'dW{layers}'] = grads[f'dZ{layers}'].dot( X.T) / m\n",
    "    # db = 1\n",
    "    grads[f'db{layers}'] = np.sum(grads[f'dZ{layers}'], axis=1, keepdims=True) / m\n",
    "\n",
    "    return grads "
   ]
  },
  {
   "cell_type": "code",
   "execution_count": 8,
   "metadata": {},
   "outputs": [],
   "source": [
    "def clip(gradients : dict = {}, maxValue : float = 10):\n",
    "\n",
    "    \"\"\"\n",
    "    clip funsion is ued to solve the issue of exploding gradient.\n",
    "    by fixing the border limits the gradient cannot exceded we can solve that problem \n",
    "\n",
    "    * firstly we start by defining the border limits [-L, L]\n",
    "    if the value of gardient id outside of this range we put it inside like this \n",
    "        - if grad > L  ---> grad = L\n",
    "        - if grad < -L ---> grad = L\n",
    "        - else grad = pass\n",
    "\n",
    "    * so to make it possible we need the value of L in this case L = maxValues argument\n",
    "\n",
    "    \"\"\"\n",
    "    \n",
    "    for key, value in gradients.items():\n",
    "        np.clip(a=value, a_min=-maxValue, a_max=maxValue, out=value)\n",
    "\n",
    "        gradients[key] = value\n",
    "\n",
    "    return gradients\n"
   ]
  },
  {
   "cell_type": "code",
   "execution_count": 9,
   "metadata": {},
   "outputs": [],
   "source": [
    "def prediction(A, as_bool : bool = True):\n",
    "    \n",
    "    prediction =  A > 0.5\n",
    "    \n",
    "    if as_bool is True : return prediction * 1\n",
    "    else: return A\n",
    "\n",
    "def scoring(y_true : np.ndarray, y_pred : np.ndarray):\n",
    "\n",
    "    return (y_pred == y_true).sum() / y_pred.shape[1]"
   ]
  },
  {
   "cell_type": "code",
   "execution_count": 10,
   "metadata": {},
   "outputs": [],
   "source": [
    "def updating_params(grads : dict, params : dict, learning_rate : float = 0.01):\n",
    "\n",
    "    # number of layers\n",
    "    layers = len( list(params.keys()) ) // 2\n",
    "\n",
    "    # updating the weight and bias using the gradient (stochastic gradient descend)\n",
    "    for layer in range(layers):\n",
    "        params[f'W{layer+1}'] = params[f'W{layer+1}'] - learning_rate * grads[f'dW{layer+1}']\n",
    "        params[f'b{layer+1}'] = params[f'b{layer+1}'] - learning_rate * grads[f'db{layer+1}']\n",
    "\n",
    "    # returning the updating weight and bias \n",
    "\n",
    "    return params"
   ]
  },
  {
   "cell_type": "code",
   "execution_count": 14,
   "metadata": {},
   "outputs": [],
   "source": [
    "def LogisticRegression(\n",
    "        X : np.ndarray,\n",
    "        Y : np.ndarray,\n",
    "        maxValue : float = None,\n",
    "        early_stoping       : int   = 10000,\n",
    "        learning_rate       : float = 1e-3,\n",
    "        print_val           : bool  = True,\n",
    "        epsilon             : float = 1e-8,\n",
    "        verbose             : bool  = True,\n",
    "        step                : int   = 100, \n",
    "        seed                : int   = None,\n",
    "        optimizer           : str   = \"sgd\",\n",
    "        beta1               : float = 0.8,\n",
    "        beta2               : float = 0.85,\n",
    "        t                   : float = 2.5\n",
    "       ):\n",
    "\n",
    "    nx      = X.shape[0]\n",
    "    params  = params_init(nx=nx, seed=seed)\n",
    "\n",
    "    history = {\"cost\" : [], \"accuracy\" : []}\n",
    "    \n",
    "    i = 0\n",
    "\n",
    "    while True:\n",
    "        # Forward propagation. Inputs: \"X, parameters\". Outputs: \"A2, cache\"\n",
    "        A_last, cache = forward_propagation(X=X, params=params)\n",
    "        \n",
    "        # Cost function. Inputs: \"A2, Y\". Outputs: \"cost\".\n",
    "        # cost = ...\n",
    "        cost = cost_function(A=A_last, Y=Y)\n",
    "        \n",
    "        # Backpropagation. Inputs: \"parameters, cache, X, Y\". Outputs: \"grads\".\n",
    "        grads = backward_propagation(params=params, cache=cache, X=X, Y=Y)\n",
    "        \n",
    "        # Gradient descent parameter update. Inputs: \"parameters, grads\". Outputs: \"parameters\".\n",
    "        if maxValue : grads = clip(gradients=grads, maxValue=maxValue)\n",
    "\n",
    "        if optimizer == \"sgd\" : params = updating_params(params=params, grads=grads, learning_rate=learning_rate)\n",
    "        else:\n",
    "            v, s = initialize_adam(params=params) \n",
    "            params,v, s = adam(params=params, grads=grads, v=v, s=s, t=t, beta1=beta1, beta2=beta2, learning_rate=learning_rate, epsilon=epsilon)\n",
    "           \n",
    "        y_pred      = prediction(A_last, as_bool=True)\n",
    "        accuracy    = scoring(y_true=Y, y_pred=y_pred)\n",
    "                        \n",
    "        # Print the cost every 1000 iterations\n",
    "        if verbose and i % step == 0:        \n",
    "            if i == 0 : pass \n",
    "            else:\n",
    "                if history['cost']:\n",
    "                    if np.abs(history['cost'][-1] - cost) < epsilon: \n",
    "                        print(\"loop break due np.abs( cost[i] - cost[i-1]) < epsilon\")\n",
    "                        break\n",
    "                    else: pass\n",
    "                else: pass \n",
    "\n",
    "                history['cost'].append(cost)\n",
    "                history['accuracy'].append(accuracy)\n",
    "\n",
    "                if print_val : print (\"epoch: %i cost: %f scoring: %f\" %(i, cost, accuracy))\n",
    "        else: pass \n",
    "        \n",
    "        i += 1 \n",
    "\n",
    "             \n",
    "        if early_stoping:\n",
    "            if i >= early_stoping: \n",
    "                print(\"loop break due to early stoping parameter\")\n",
    "                break \n",
    "            else: pass \n",
    "        else: pass\n",
    "        \n",
    "    return history "
   ]
  },
  {
   "cell_type": "code",
   "execution_count": 15,
   "metadata": {},
   "outputs": [],
   "source": [
    "nx = 8\n",
    "X, y = gen(nx=nx, samples=10000)"
   ]
  },
  {
   "cell_type": "code",
   "execution_count": 21,
   "metadata": {},
   "outputs": [
    {
     "name": "stdout",
     "output_type": "stream",
     "text": [
      "epoch: 100 cost: 0.616652 scoring: 0.693300\n",
      "epoch: 200 cost: 0.616652 scoring: 0.693300\n",
      "epoch: 300 cost: 0.616652 scoring: 0.693300\n",
      "epoch: 400 cost: 0.616652 scoring: 0.693300\n",
      "epoch: 500 cost: 0.616652 scoring: 0.693300\n",
      "epoch: 600 cost: 0.616652 scoring: 0.693300\n",
      "epoch: 700 cost: 0.616652 scoring: 0.693300\n",
      "epoch: 800 cost: 0.616652 scoring: 0.693300\n",
      "epoch: 900 cost: 0.616652 scoring: 0.693300\n",
      "epoch: 1000 cost: 0.616652 scoring: 0.693300\n",
      "epoch: 1100 cost: 0.616652 scoring: 0.693300\n",
      "epoch: 1200 cost: 0.616652 scoring: 0.693300\n",
      "epoch: 1300 cost: 0.616652 scoring: 0.693300\n",
      "epoch: 1400 cost: 0.616652 scoring: 0.693300\n",
      "epoch: 1500 cost: 0.616652 scoring: 0.693300\n",
      "epoch: 1600 cost: 0.616652 scoring: 0.693300\n",
      "epoch: 1700 cost: 0.616652 scoring: 0.693300\n",
      "epoch: 1800 cost: 0.616652 scoring: 0.693300\n",
      "epoch: 1900 cost: 0.616652 scoring: 0.693300\n",
      "epoch: 2000 cost: 0.616652 scoring: 0.693300\n",
      "epoch: 2100 cost: 0.616652 scoring: 0.693300\n",
      "epoch: 2200 cost: 0.616652 scoring: 0.693300\n",
      "epoch: 2300 cost: 0.616652 scoring: 0.693300\n",
      "epoch: 2400 cost: 0.616652 scoring: 0.693300\n",
      "epoch: 2500 cost: 0.616652 scoring: 0.693300\n",
      "epoch: 2600 cost: 0.616652 scoring: 0.693300\n",
      "epoch: 2700 cost: 0.616652 scoring: 0.693300\n",
      "epoch: 2800 cost: 0.616652 scoring: 0.693300\n",
      "epoch: 2900 cost: 0.616652 scoring: 0.693300\n",
      "epoch: 3000 cost: 0.616652 scoring: 0.693300\n",
      "epoch: 3100 cost: 0.616652 scoring: 0.693300\n",
      "epoch: 3200 cost: 0.616652 scoring: 0.693300\n",
      "epoch: 3300 cost: 0.616652 scoring: 0.693300\n",
      "epoch: 3400 cost: 0.616652 scoring: 0.693300\n",
      "epoch: 3500 cost: 0.616652 scoring: 0.693300\n",
      "epoch: 3600 cost: 0.616652 scoring: 0.693300\n",
      "epoch: 3700 cost: 0.616652 scoring: 0.693300\n",
      "epoch: 3800 cost: 0.616652 scoring: 0.693300\n",
      "epoch: 3900 cost: 0.616652 scoring: 0.693300\n",
      "epoch: 4000 cost: 0.616652 scoring: 0.693300\n",
      "epoch: 4100 cost: 0.616652 scoring: 0.693300\n",
      "epoch: 4200 cost: 0.616652 scoring: 0.693300\n",
      "epoch: 4300 cost: 0.616652 scoring: 0.693300\n",
      "epoch: 4400 cost: 0.616652 scoring: 0.693300\n",
      "epoch: 4500 cost: 0.616652 scoring: 0.693300\n",
      "epoch: 4600 cost: 0.616652 scoring: 0.693300\n",
      "epoch: 4700 cost: 0.616652 scoring: 0.693300\n",
      "epoch: 4800 cost: 0.616652 scoring: 0.693300\n",
      "epoch: 4900 cost: 0.616652 scoring: 0.693300\n",
      "epoch: 5000 cost: 0.616652 scoring: 0.693300\n",
      "epoch: 5100 cost: 0.616652 scoring: 0.693300\n",
      "epoch: 5200 cost: 0.616652 scoring: 0.693300\n",
      "epoch: 5300 cost: 0.616652 scoring: 0.693300\n",
      "epoch: 5400 cost: 0.616652 scoring: 0.693300\n",
      "epoch: 5500 cost: 0.616652 scoring: 0.693300\n",
      "epoch: 5600 cost: 0.616652 scoring: 0.693300\n",
      "epoch: 5700 cost: 0.616652 scoring: 0.693300\n",
      "epoch: 5800 cost: 0.616652 scoring: 0.693300\n",
      "epoch: 5900 cost: 0.616652 scoring: 0.693300\n",
      "epoch: 6000 cost: 0.616652 scoring: 0.693300\n",
      "epoch: 6100 cost: 0.616652 scoring: 0.693300\n",
      "epoch: 6200 cost: 0.616652 scoring: 0.693300\n",
      "epoch: 6300 cost: 0.616652 scoring: 0.693300\n",
      "epoch: 6400 cost: 0.616652 scoring: 0.693300\n",
      "epoch: 6500 cost: 0.616652 scoring: 0.693300\n",
      "epoch: 6600 cost: 0.616652 scoring: 0.693300\n",
      "epoch: 6700 cost: 0.616652 scoring: 0.693300\n",
      "epoch: 6800 cost: 0.616652 scoring: 0.693300\n",
      "epoch: 6900 cost: 0.616652 scoring: 0.693300\n",
      "epoch: 7000 cost: 0.616652 scoring: 0.693300\n",
      "epoch: 7100 cost: 0.616652 scoring: 0.693300\n",
      "epoch: 7200 cost: 0.616652 scoring: 0.693300\n",
      "epoch: 7300 cost: 0.616652 scoring: 0.693300\n",
      "epoch: 7400 cost: 0.616652 scoring: 0.693300\n",
      "epoch: 7500 cost: 0.616652 scoring: 0.693300\n",
      "epoch: 7600 cost: 0.616652 scoring: 0.693300\n",
      "epoch: 7700 cost: 0.616652 scoring: 0.693300\n",
      "epoch: 7800 cost: 0.616652 scoring: 0.693300\n",
      "epoch: 7900 cost: 0.616652 scoring: 0.693300\n",
      "epoch: 8000 cost: 0.616652 scoring: 0.693300\n",
      "epoch: 8100 cost: 0.616652 scoring: 0.693300\n",
      "epoch: 8200 cost: 0.616652 scoring: 0.693300\n",
      "epoch: 8300 cost: 0.616652 scoring: 0.693300\n",
      "epoch: 8400 cost: 0.616652 scoring: 0.693300\n",
      "epoch: 8500 cost: 0.616652 scoring: 0.693300\n",
      "epoch: 8600 cost: 0.616652 scoring: 0.693300\n",
      "epoch: 8700 cost: 0.616652 scoring: 0.693300\n",
      "epoch: 8800 cost: 0.616652 scoring: 0.693300\n",
      "epoch: 8900 cost: 0.616652 scoring: 0.693300\n",
      "epoch: 9000 cost: 0.616652 scoring: 0.693300\n",
      "epoch: 9100 cost: 0.616652 scoring: 0.693300\n",
      "epoch: 9200 cost: 0.616652 scoring: 0.693300\n",
      "epoch: 9300 cost: 0.616652 scoring: 0.693300\n",
      "epoch: 9400 cost: 0.616652 scoring: 0.693300\n",
      "epoch: 9500 cost: 0.616652 scoring: 0.693300\n",
      "epoch: 9600 cost: 0.616652 scoring: 0.693300\n",
      "epoch: 9700 cost: 0.616652 scoring: 0.693300\n",
      "epoch: 9800 cost: 0.616652 scoring: 0.693300\n",
      "epoch: 9900 cost: 0.616652 scoring: 0.693300\n",
      "loop break due to early stoping parameter\n"
     ]
    }
   ],
   "source": [
    "history = LogisticRegression(X=X, Y=y, maxValue=None, print_val=True, learning_rate=0.1, beta1=0.9, beta2=0.99,\n",
    "                                                step=100, early_stoping=10000, epsilon=1e-17, optimizer='adam')"
   ]
  },
  {
   "cell_type": "code",
   "execution_count": 22,
   "metadata": {},
   "outputs": [],
   "source": [
    "path  = 'https://sololearn.com/uploads/files/titanic.csv' "
   ]
  },
  {
   "cell_type": "code",
   "execution_count": 23,
   "metadata": {},
   "outputs": [],
   "source": [
    "from sklearn.preprocessing import MinMaxScaler \n",
    "from sklearn.feature_selection import RFE, VarianceThreshold, SelectPercentile\n",
    "import pandas as pd"
   ]
  },
  {
   "cell_type": "code",
   "execution_count": 24,
   "metadata": {},
   "outputs": [],
   "source": [
    "min_max = MinMaxScaler()\n",
    "data = pd.read_csv(path, header=0)"
   ]
  },
  {
   "cell_type": "code",
   "execution_count": 25,
   "metadata": {},
   "outputs": [
    {
     "data": {
      "text/html": [
       "<div>\n",
       "<style scoped>\n",
       "    .dataframe tbody tr th:only-of-type {\n",
       "        vertical-align: middle;\n",
       "    }\n",
       "\n",
       "    .dataframe tbody tr th {\n",
       "        vertical-align: top;\n",
       "    }\n",
       "\n",
       "    .dataframe thead th {\n",
       "        text-align: right;\n",
       "    }\n",
       "</style>\n",
       "<table border=\"1\" class=\"dataframe\">\n",
       "  <thead>\n",
       "    <tr style=\"text-align: right;\">\n",
       "      <th></th>\n",
       "      <th>Survived</th>\n",
       "      <th>Pclass</th>\n",
       "      <th>Sex</th>\n",
       "      <th>Age</th>\n",
       "      <th>Siblings/Spouses</th>\n",
       "      <th>Parents/Children</th>\n",
       "      <th>Fare</th>\n",
       "    </tr>\n",
       "  </thead>\n",
       "  <tbody>\n",
       "    <tr>\n",
       "      <th>0</th>\n",
       "      <td>0</td>\n",
       "      <td>3</td>\n",
       "      <td>male</td>\n",
       "      <td>22.0</td>\n",
       "      <td>1</td>\n",
       "      <td>0</td>\n",
       "      <td>7.2500</td>\n",
       "    </tr>\n",
       "    <tr>\n",
       "      <th>1</th>\n",
       "      <td>1</td>\n",
       "      <td>1</td>\n",
       "      <td>female</td>\n",
       "      <td>38.0</td>\n",
       "      <td>1</td>\n",
       "      <td>0</td>\n",
       "      <td>71.2833</td>\n",
       "    </tr>\n",
       "    <tr>\n",
       "      <th>2</th>\n",
       "      <td>1</td>\n",
       "      <td>3</td>\n",
       "      <td>female</td>\n",
       "      <td>26.0</td>\n",
       "      <td>0</td>\n",
       "      <td>0</td>\n",
       "      <td>7.9250</td>\n",
       "    </tr>\n",
       "    <tr>\n",
       "      <th>3</th>\n",
       "      <td>1</td>\n",
       "      <td>1</td>\n",
       "      <td>female</td>\n",
       "      <td>35.0</td>\n",
       "      <td>1</td>\n",
       "      <td>0</td>\n",
       "      <td>53.1000</td>\n",
       "    </tr>\n",
       "    <tr>\n",
       "      <th>4</th>\n",
       "      <td>0</td>\n",
       "      <td>3</td>\n",
       "      <td>male</td>\n",
       "      <td>35.0</td>\n",
       "      <td>0</td>\n",
       "      <td>0</td>\n",
       "      <td>8.0500</td>\n",
       "    </tr>\n",
       "  </tbody>\n",
       "</table>\n",
       "</div>"
      ],
      "text/plain": [
       "   Survived  Pclass     Sex   Age  Siblings/Spouses  Parents/Children     Fare\n",
       "0         0       3    male  22.0                 1                 0   7.2500\n",
       "1         1       1  female  38.0                 1                 0  71.2833\n",
       "2         1       3  female  26.0                 0                 0   7.9250\n",
       "3         1       1  female  35.0                 1                 0  53.1000\n",
       "4         0       3    male  35.0                 0                 0   8.0500"
      ]
     },
     "execution_count": 25,
     "metadata": {},
     "output_type": "execute_result"
    }
   ],
   "source": [
    "data.head()"
   ]
  },
  {
   "cell_type": "code",
   "execution_count": 26,
   "metadata": {},
   "outputs": [
    {
     "name": "stdout",
     "output_type": "stream",
     "text": [
      "<class 'pandas.core.frame.DataFrame'>\n",
      "RangeIndex: 887 entries, 0 to 886\n",
      "Data columns (total 7 columns):\n",
      " #   Column            Non-Null Count  Dtype  \n",
      "---  ------            --------------  -----  \n",
      " 0   Survived          887 non-null    int64  \n",
      " 1   Pclass            887 non-null    int64  \n",
      " 2   Sex               887 non-null    object \n",
      " 3   Age               887 non-null    float64\n",
      " 4   Siblings/Spouses  887 non-null    int64  \n",
      " 5   Parents/Children  887 non-null    int64  \n",
      " 6   Fare              887 non-null    float64\n",
      "dtypes: float64(2), int64(4), object(1)\n",
      "memory usage: 48.6+ KB\n"
     ]
    }
   ],
   "source": [
    "data.info()"
   ]
  },
  {
   "cell_type": "code",
   "execution_count": 27,
   "metadata": {},
   "outputs": [
    {
     "name": "stdout",
     "output_type": "stream",
     "text": [
      "before 70\n",
      "after 0\n"
     ]
    }
   ],
   "source": [
    "# checking duplicated values\n",
    "duplicated_val = data.duplicated().sum()\n",
    "print(f\"before {duplicated_val}\")\n",
    "\n",
    "# removing duplicated values, i used here inplace to change dataframe directly\n",
    "data.drop_duplicates(inplace=True)\n",
    "print(f\"after {data.duplicated().sum()}\")"
   ]
  },
  {
   "cell_type": "code",
   "execution_count": 28,
   "metadata": {},
   "outputs": [
    {
     "name": "stdout",
     "output_type": "stream",
     "text": [
      "not null values in this dataset\n",
      "Survived            0\n",
      "Pclass              0\n",
      "Sex                 0\n",
      "Age                 0\n",
      "Siblings/Spouses    0\n",
      "Parents/Children    0\n",
      "Fare                0\n",
      "dtype: int64\n"
     ]
    }
   ],
   "source": [
    "# checking null values \n",
    "null_vals = data.isna().sum()\n",
    "print(f\"not null values in this dataset\\n{null_vals}\")"
   ]
  },
  {
   "cell_type": "code",
   "execution_count": 29,
   "metadata": {},
   "outputs": [],
   "source": [
    "import matplotlib.pyplot as plt \n",
    "import seaborn as sns \n",
    "from sklearn.preprocessing import LabelEncoder\n",
    "from sklearn.model_selection import train_test_split as tts\n",
    "from sklearn.linear_model import LogisticRegression as LR\n",
    "from sklearn.model_selection import GridSearchCV as Gs"
   ]
  },
  {
   "cell_type": "code",
   "execution_count": 30,
   "metadata": {},
   "outputs": [
    {
     "data": {
      "text/html": [
       "<div>\n",
       "<style scoped>\n",
       "    .dataframe tbody tr th:only-of-type {\n",
       "        vertical-align: middle;\n",
       "    }\n",
       "\n",
       "    .dataframe tbody tr th {\n",
       "        vertical-align: top;\n",
       "    }\n",
       "\n",
       "    .dataframe thead th {\n",
       "        text-align: right;\n",
       "    }\n",
       "</style>\n",
       "<table border=\"1\" class=\"dataframe\">\n",
       "  <thead>\n",
       "    <tr style=\"text-align: right;\">\n",
       "      <th></th>\n",
       "      <th>Survived</th>\n",
       "      <th>Pclass</th>\n",
       "      <th>Sex</th>\n",
       "      <th>Age</th>\n",
       "      <th>Siblings/Spouses</th>\n",
       "      <th>Parents/Children</th>\n",
       "      <th>Fare</th>\n",
       "    </tr>\n",
       "  </thead>\n",
       "  <tbody>\n",
       "    <tr>\n",
       "      <th>0</th>\n",
       "      <td>0</td>\n",
       "      <td>3</td>\n",
       "      <td>1</td>\n",
       "      <td>22.0</td>\n",
       "      <td>1</td>\n",
       "      <td>0</td>\n",
       "      <td>7.2500</td>\n",
       "    </tr>\n",
       "    <tr>\n",
       "      <th>1</th>\n",
       "      <td>1</td>\n",
       "      <td>1</td>\n",
       "      <td>0</td>\n",
       "      <td>38.0</td>\n",
       "      <td>1</td>\n",
       "      <td>0</td>\n",
       "      <td>71.2833</td>\n",
       "    </tr>\n",
       "    <tr>\n",
       "      <th>2</th>\n",
       "      <td>1</td>\n",
       "      <td>3</td>\n",
       "      <td>0</td>\n",
       "      <td>26.0</td>\n",
       "      <td>0</td>\n",
       "      <td>0</td>\n",
       "      <td>7.9250</td>\n",
       "    </tr>\n",
       "    <tr>\n",
       "      <th>3</th>\n",
       "      <td>1</td>\n",
       "      <td>1</td>\n",
       "      <td>0</td>\n",
       "      <td>35.0</td>\n",
       "      <td>1</td>\n",
       "      <td>0</td>\n",
       "      <td>53.1000</td>\n",
       "    </tr>\n",
       "    <tr>\n",
       "      <th>4</th>\n",
       "      <td>0</td>\n",
       "      <td>3</td>\n",
       "      <td>1</td>\n",
       "      <td>35.0</td>\n",
       "      <td>0</td>\n",
       "      <td>0</td>\n",
       "      <td>8.0500</td>\n",
       "    </tr>\n",
       "  </tbody>\n",
       "</table>\n",
       "</div>"
      ],
      "text/plain": [
       "   Survived  Pclass  Sex   Age  Siblings/Spouses  Parents/Children     Fare\n",
       "0         0       3    1  22.0                 1                 0   7.2500\n",
       "1         1       1    0  38.0                 1                 0  71.2833\n",
       "2         1       3    0  26.0                 0                 0   7.9250\n",
       "3         1       1    0  35.0                 1                 0  53.1000\n",
       "4         0       3    1  35.0                 0                 0   8.0500"
      ]
     },
     "execution_count": 30,
     "metadata": {},
     "output_type": "execute_result"
    }
   ],
   "source": [
    "encoder = LabelEncoder()\n",
    "data['Sex'] = encoder.fit_transform(data['Sex'])\n",
    "data.head()"
   ]
  },
  {
   "cell_type": "code",
   "execution_count": 31,
   "metadata": {},
   "outputs": [
    {
     "data": {
      "text/html": [
       "<div>\n",
       "<style scoped>\n",
       "    .dataframe tbody tr th:only-of-type {\n",
       "        vertical-align: middle;\n",
       "    }\n",
       "\n",
       "    .dataframe tbody tr th {\n",
       "        vertical-align: top;\n",
       "    }\n",
       "\n",
       "    .dataframe thead th {\n",
       "        text-align: right;\n",
       "    }\n",
       "</style>\n",
       "<table border=\"1\" class=\"dataframe\">\n",
       "  <thead>\n",
       "    <tr style=\"text-align: right;\">\n",
       "      <th></th>\n",
       "      <th>Survived</th>\n",
       "      <th>Pclass</th>\n",
       "      <th>Sex</th>\n",
       "      <th>Age</th>\n",
       "      <th>Siblings/Spouses</th>\n",
       "      <th>Parents/Children</th>\n",
       "      <th>Fare</th>\n",
       "    </tr>\n",
       "  </thead>\n",
       "  <tbody>\n",
       "    <tr>\n",
       "      <th>Survived</th>\n",
       "      <td>1.000000</td>\n",
       "      <td>-0.332440</td>\n",
       "      <td>-0.519580</td>\n",
       "      <td>-0.068815</td>\n",
       "      <td>-0.061802</td>\n",
       "      <td>0.063134</td>\n",
       "      <td>0.243279</td>\n",
       "    </tr>\n",
       "    <tr>\n",
       "      <th>Pclass</th>\n",
       "      <td>-0.332440</td>\n",
       "      <td>1.000000</td>\n",
       "      <td>0.112604</td>\n",
       "      <td>-0.387949</td>\n",
       "      <td>0.105392</td>\n",
       "      <td>0.038934</td>\n",
       "      <td>-0.548349</td>\n",
       "    </tr>\n",
       "    <tr>\n",
       "      <th>Sex</th>\n",
       "      <td>-0.519580</td>\n",
       "      <td>0.112604</td>\n",
       "      <td>1.000000</td>\n",
       "      <td>0.099127</td>\n",
       "      <td>-0.095775</td>\n",
       "      <td>-0.235186</td>\n",
       "      <td>-0.170175</td>\n",
       "    </tr>\n",
       "    <tr>\n",
       "      <th>Age</th>\n",
       "      <td>-0.068815</td>\n",
       "      <td>-0.387949</td>\n",
       "      <td>0.099127</td>\n",
       "      <td>1.000000</td>\n",
       "      <td>-0.308451</td>\n",
       "      <td>-0.203584</td>\n",
       "      <td>0.107156</td>\n",
       "    </tr>\n",
       "    <tr>\n",
       "      <th>Siblings/Spouses</th>\n",
       "      <td>-0.061802</td>\n",
       "      <td>0.105392</td>\n",
       "      <td>-0.095775</td>\n",
       "      <td>-0.308451</td>\n",
       "      <td>1.000000</td>\n",
       "      <td>0.403822</td>\n",
       "      <td>0.146354</td>\n",
       "    </tr>\n",
       "    <tr>\n",
       "      <th>Parents/Children</th>\n",
       "      <td>0.063134</td>\n",
       "      <td>0.038934</td>\n",
       "      <td>-0.235186</td>\n",
       "      <td>-0.203584</td>\n",
       "      <td>0.403822</td>\n",
       "      <td>1.000000</td>\n",
       "      <td>0.203017</td>\n",
       "    </tr>\n",
       "    <tr>\n",
       "      <th>Fare</th>\n",
       "      <td>0.243279</td>\n",
       "      <td>-0.548349</td>\n",
       "      <td>-0.170175</td>\n",
       "      <td>0.107156</td>\n",
       "      <td>0.146354</td>\n",
       "      <td>0.203017</td>\n",
       "      <td>1.000000</td>\n",
       "    </tr>\n",
       "  </tbody>\n",
       "</table>\n",
       "</div>"
      ],
      "text/plain": [
       "                  Survived    Pclass       Sex       Age  Siblings/Spouses  \\\n",
       "Survived          1.000000 -0.332440 -0.519580 -0.068815         -0.061802   \n",
       "Pclass           -0.332440  1.000000  0.112604 -0.387949          0.105392   \n",
       "Sex              -0.519580  0.112604  1.000000  0.099127         -0.095775   \n",
       "Age              -0.068815 -0.387949  0.099127  1.000000         -0.308451   \n",
       "Siblings/Spouses -0.061802  0.105392 -0.095775 -0.308451          1.000000   \n",
       "Parents/Children  0.063134  0.038934 -0.235186 -0.203584          0.403822   \n",
       "Fare              0.243279 -0.548349 -0.170175  0.107156          0.146354   \n",
       "\n",
       "                  Parents/Children      Fare  \n",
       "Survived                  0.063134  0.243279  \n",
       "Pclass                    0.038934 -0.548349  \n",
       "Sex                      -0.235186 -0.170175  \n",
       "Age                      -0.203584  0.107156  \n",
       "Siblings/Spouses          0.403822  0.146354  \n",
       "Parents/Children          1.000000  0.203017  \n",
       "Fare                      0.203017  1.000000  "
      ]
     },
     "execution_count": 31,
     "metadata": {},
     "output_type": "execute_result"
    }
   ],
   "source": [
    "corr = data.corr()\n",
    "corr"
   ]
  },
  {
   "cell_type": "code",
   "execution_count": 32,
   "metadata": {},
   "outputs": [],
   "source": [
    "target = data['Survived']\n",
    "X = data.drop(labels=['Survived'], axis=1)\n"
   ]
  },
  {
   "cell_type": "code",
   "execution_count": 33,
   "metadata": {},
   "outputs": [
    {
     "name": "stderr",
     "output_type": "stream",
     "text": [
      "C:\\Users\\amib\\AppData\\Roaming\\Python\\Python311\\site-packages\\seaborn\\_oldcore.py:1498: FutureWarning: is_categorical_dtype is deprecated and will be removed in a future version. Use isinstance(dtype, CategoricalDtype) instead\n",
      "  if pd.api.types.is_categorical_dtype(vector):\n",
      "C:\\Users\\amib\\AppData\\Roaming\\Python\\Python311\\site-packages\\seaborn\\_oldcore.py:1498: FutureWarning: is_categorical_dtype is deprecated and will be removed in a future version. Use isinstance(dtype, CategoricalDtype) instead\n",
      "  if pd.api.types.is_categorical_dtype(vector):\n",
      "C:\\Users\\amib\\AppData\\Roaming\\Python\\Python311\\site-packages\\seaborn\\_oldcore.py:1498: FutureWarning: is_categorical_dtype is deprecated and will be removed in a future version. Use isinstance(dtype, CategoricalDtype) instead\n",
      "  if pd.api.types.is_categorical_dtype(vector):\n"
     ]
    },
    {
     "data": {
      "image/png": "[encoded data removed]",
      "text/plain": [
       "<Figure size 640x480 with 1 Axes>"
      ]
     },
     "metadata": {},
     "output_type": "display_data"
    }
   ],
   "source": [
    "\n",
    "sns.countplot(x=target)\n",
    "plt.show()"
   ]
  },
  {
   "cell_type": "code",
   "execution_count": 34,
   "metadata": {},
   "outputs": [],
   "source": [
    "X_train, X_test, y_train, y_test = tts(X, target, test_size=0.2, random_state=3, stratify=target)"
   ]
  },
  {
   "cell_type": "code",
   "execution_count": 35,
   "metadata": {},
   "outputs": [],
   "source": [
    "X_train = min_max.fit_transform(X_train)\n",
    "X_test  = min_max.transform(X_test)"
   ]
  },
  {
   "cell_type": "code",
   "execution_count": 36,
   "metadata": {},
   "outputs": [],
   "source": [
    "lr = LR()"
   ]
  },
  {
   "cell_type": "code",
   "execution_count": 37,
   "metadata": {},
   "outputs": [],
   "source": [
    "rfe = RFE(estimator=lr)\n",
    "X_train_rfe = rfe.fit_transform(X_train, y=y_train)\n",
    "X_test_rfe  = rfe.transform(X_test)"
   ]
  },
  {
   "cell_type": "code",
   "execution_count": 38,
   "metadata": {},
   "outputs": [
    {
     "data": {
      "image/png": "[encoded data removed]",
      "text/plain": [
       "<Figure size 640x480 with 1 Axes>"
      ]
     },
     "metadata": {},
     "output_type": "display_data"
    }
   ],
   "source": [
    "mask = rfe.get_support()\n",
    "plt.imshow(mask.reshape((1, -1)), cmap=\"gray_r\")\n",
    "plt.show()"
   ]
  },
  {
   "cell_type": "code",
   "execution_count": 39,
   "metadata": {},
   "outputs": [
    {
     "data": {
      "text/plain": [
       "Index(['Pclass', 'Sex', 'Age'], dtype='object')"
      ]
     },
     "execution_count": 39,
     "metadata": {},
     "output_type": "execute_result"
    }
   ],
   "source": [
    "names = X.columns[mask]\n",
    "names"
   ]
  },
  {
   "cell_type": "code",
   "execution_count": 40,
   "metadata": {},
   "outputs": [
    {
     "data": {
      "text/html": [
       "<style>#sk-container-id-1 {color: black;}#sk-container-id-1 pre{padding: 0;}#sk-container-id-1 div.sk-toggleable {background-color: white;}#sk-container-id-1 label.sk-toggleable__label {cursor: pointer;display: block;width: 100%;margin-bottom: 0;padding: 0.3em;box-sizing: border-box;text-align: center;}#sk-container-id-1 label.sk-toggleable__label-arrow:before {content: \"▸\";float: left;margin-right: 0.25em;color: #696969;}#sk-container-id-1 label.sk-toggleable__label-arrow:hover:before {color: black;}#sk-container-id-1 div.sk-estimator:hover label.sk-toggleable__label-arrow:before {color: black;}#sk-container-id-1 div.sk-toggleable__content {max-height: 0;max-width: 0;overflow: hidden;text-align: left;background-color: #f0f8ff;}#sk-container-id-1 div.sk-toggleable__content pre {margin: 0.2em;color: black;border-radius: 0.25em;background-color: #f0f8ff;}#sk-container-id-1 input.sk-toggleable__control:checked~div.sk-toggleable__content {max-height: 200px;max-width: 100%;overflow: auto;}#sk-container-id-1 input.sk-toggleable__control:checked~label.sk-toggleable__label-arrow:before {content: \"▾\";}#sk-container-id-1 div.sk-estimator input.sk-toggleable__control:checked~label.sk-toggleable__label {background-color: #d4ebff;}#sk-container-id-1 div.sk-label input.sk-toggleable__control:checked~label.sk-toggleable__label {background-color: #d4ebff;}#sk-container-id-1 input.sk-hidden--visually {border: 0;clip: rect(1px 1px 1px 1px);clip: rect(1px, 1px, 1px, 1px);height: 1px;margin: -1px;overflow: hidden;padding: 0;position: absolute;width: 1px;}#sk-container-id-1 div.sk-estimator {font-family: monospace;background-color: #f0f8ff;border: 1px dotted black;border-radius: 0.25em;box-sizing: border-box;margin-bottom: 0.5em;}#sk-container-id-1 div.sk-estimator:hover {background-color: #d4ebff;}#sk-container-id-1 div.sk-parallel-item::after {content: \"\";width: 100%;border-bottom: 1px solid gray;flex-grow: 1;}#sk-container-id-1 div.sk-label:hover label.sk-toggleable__label {background-color: #d4ebff;}#sk-container-id-1 div.sk-serial::before {content: \"\";position: absolute;border-left: 1px solid gray;box-sizing: border-box;top: 0;bottom: 0;left: 50%;z-index: 0;}#sk-container-id-1 div.sk-serial {display: flex;flex-direction: column;align-items: center;background-color: white;padding-right: 0.2em;padding-left: 0.2em;position: relative;}#sk-container-id-1 div.sk-item {position: relative;z-index: 1;}#sk-container-id-1 div.sk-parallel {display: flex;align-items: stretch;justify-content: center;background-color: white;position: relative;}#sk-container-id-1 div.sk-item::before, #sk-container-id-1 div.sk-parallel-item::before {content: \"\";position: absolute;border-left: 1px solid gray;box-sizing: border-box;top: 0;bottom: 0;left: 50%;z-index: -1;}#sk-container-id-1 div.sk-parallel-item {display: flex;flex-direction: column;z-index: 1;position: relative;background-color: white;}#sk-container-id-1 div.sk-parallel-item:first-child::after {align-self: flex-end;width: 50%;}#sk-container-id-1 div.sk-parallel-item:last-child::after {align-self: flex-start;width: 50%;}#sk-container-id-1 div.sk-parallel-item:only-child::after {width: 0;}#sk-container-id-1 div.sk-dashed-wrapped {border: 1px dashed gray;margin: 0 0.4em 0.5em 0.4em;box-sizing: border-box;padding-bottom: 0.4em;background-color: white;}#sk-container-id-1 div.sk-label label {font-family: monospace;font-weight: bold;display: inline-block;line-height: 1.2em;}#sk-container-id-1 div.sk-label-container {text-align: center;}#sk-container-id-1 div.sk-container {/* jupyter's `normalize.less` sets `[hidden] { display: none; }` but bootstrap.min.css set `[hidden] { display: none !important; }` so we also need the `!important` here to be able to override the default hidden behavior on the sphinx rendered scikit-learn.org. See: https://github.com/scikit-learn/scikit-learn/issues/21755 */display: inline-block !important;position: relative;}#sk-container-id-1 div.sk-text-repr-fallback {display: none;}</style><div id=\"sk-container-id-1\" class=\"sk-top-container\"><div class=\"sk-text-repr-fallback\"><pre>GridSearchCV(cv=5, estimator=LogisticRegression(),\n",
       "             param_grid={&#x27;C&#x27;: [0.01, 0.1, 1, 2, 5, 10],\n",
       "                         &#x27;solver&#x27;: [&#x27;lbfgs&#x27;, &#x27;liblinear&#x27;, &#x27;newton-cg&#x27;,\n",
       "                                    &#x27;newton-cholesky&#x27;, &#x27;sag&#x27;, &#x27;saga&#x27;]},\n",
       "             scoring=&#x27;accuracy&#x27;)</pre><b>In a Jupyter environment, please rerun this cell to show the HTML representation or trust the notebook. <br />On GitHub, the HTML representation is unable to render, please try loading this page with nbviewer.org.</b></div><div class=\"sk-container\" hidden><div class=\"sk-item sk-dashed-wrapped\"><div class=\"sk-label-container\"><div class=\"sk-label sk-toggleable\"><input class=\"sk-toggleable__control sk-hidden--visually\" id=\"sk-estimator-id-1\" type=\"checkbox\" ><label for=\"sk-estimator-id-1\" class=\"sk-toggleable__label sk-toggleable__label-arrow\">GridSearchCV</label><div class=\"sk-toggleable__content\"><pre>GridSearchCV(cv=5, estimator=LogisticRegression(),\n",
       "             param_grid={&#x27;C&#x27;: [0.01, 0.1, 1, 2, 5, 10],\n",
       "                         &#x27;solver&#x27;: [&#x27;lbfgs&#x27;, &#x27;liblinear&#x27;, &#x27;newton-cg&#x27;,\n",
       "                                    &#x27;newton-cholesky&#x27;, &#x27;sag&#x27;, &#x27;saga&#x27;]},\n",
       "             scoring=&#x27;accuracy&#x27;)</pre></div></div></div><div class=\"sk-parallel\"><div class=\"sk-parallel-item\"><div class=\"sk-item\"><div class=\"sk-label-container\"><div class=\"sk-label sk-toggleable\"><input class=\"sk-toggleable__control sk-hidden--visually\" id=\"sk-estimator-id-2\" type=\"checkbox\" ><label for=\"sk-estimator-id-2\" class=\"sk-toggleable__label sk-toggleable__label-arrow\">estimator: LogisticRegression</label><div class=\"sk-toggleable__content\"><pre>LogisticRegression()</pre></div></div></div><div class=\"sk-serial\"><div class=\"sk-item\"><div class=\"sk-estimator sk-toggleable\"><input class=\"sk-toggleable__control sk-hidden--visually\" id=\"sk-estimator-id-3\" type=\"checkbox\" ><label for=\"sk-estimator-id-3\" class=\"sk-toggleable__label sk-toggleable__label-arrow\">LogisticRegression</label><div class=\"sk-toggleable__content\"><pre>LogisticRegression()</pre></div></div></div></div></div></div></div></div></div></div>"
      ],
      "text/plain": [
       "GridSearchCV(cv=5, estimator=LogisticRegression(),\n",
       "             param_grid={'C': [0.01, 0.1, 1, 2, 5, 10],\n",
       "                         'solver': ['lbfgs', 'liblinear', 'newton-cg',\n",
       "                                    'newton-cholesky', 'sag', 'saga']},\n",
       "             scoring='accuracy')"
      ]
     },
     "execution_count": 40,
     "metadata": {},
     "output_type": "execute_result"
    }
   ],
   "source": [
    "param_grid = {\n",
    "    \"solver\" : ['lbfgs', 'liblinear', 'newton-cg', 'newton-cholesky', 'sag', 'saga'],\n",
    "    \"C\" : [0.01, 0.1, 1, 2, 5, 10]\n",
    "}\n",
    "gs = Gs(estimator=lr, param_grid=param_grid, cv=5, scoring='accuracy')\n",
    "gs.fit(X_train_rfe, y_train)"
   ]
  },
  {
   "cell_type": "code",
   "execution_count": 41,
   "metadata": {},
   "outputs": [
    {
     "data": {
      "text/html": [
       "<style>#sk-container-id-2 {color: black;}#sk-container-id-2 pre{padding: 0;}#sk-container-id-2 div.sk-toggleable {background-color: white;}#sk-container-id-2 label.sk-toggleable__label {cursor: pointer;display: block;width: 100%;margin-bottom: 0;padding: 0.3em;box-sizing: border-box;text-align: center;}#sk-container-id-2 label.sk-toggleable__label-arrow:before {content: \"▸\";float: left;margin-right: 0.25em;color: #696969;}#sk-container-id-2 label.sk-toggleable__label-arrow:hover:before {color: black;}#sk-container-id-2 div.sk-estimator:hover label.sk-toggleable__label-arrow:before {color: black;}#sk-container-id-2 div.sk-toggleable__content {max-height: 0;max-width: 0;overflow: hidden;text-align: left;background-color: #f0f8ff;}#sk-container-id-2 div.sk-toggleable__content pre {margin: 0.2em;color: black;border-radius: 0.25em;background-color: #f0f8ff;}#sk-container-id-2 input.sk-toggleable__control:checked~div.sk-toggleable__content {max-height: 200px;max-width: 100%;overflow: auto;}#sk-container-id-2 input.sk-toggleable__control:checked~label.sk-toggleable__label-arrow:before {content: \"▾\";}#sk-container-id-2 div.sk-estimator input.sk-toggleable__control:checked~label.sk-toggleable__label {background-color: #d4ebff;}#sk-container-id-2 div.sk-label input.sk-toggleable__control:checked~label.sk-toggleable__label {background-color: #d4ebff;}#sk-container-id-2 input.sk-hidden--visually {border: 0;clip: rect(1px 1px 1px 1px);clip: rect(1px, 1px, 1px, 1px);height: 1px;margin: -1px;overflow: hidden;padding: 0;position: absolute;width: 1px;}#sk-container-id-2 div.sk-estimator {font-family: monospace;background-color: #f0f8ff;border: 1px dotted black;border-radius: 0.25em;box-sizing: border-box;margin-bottom: 0.5em;}#sk-container-id-2 div.sk-estimator:hover {background-color: #d4ebff;}#sk-container-id-2 div.sk-parallel-item::after {content: \"\";width: 100%;border-bottom: 1px solid gray;flex-grow: 1;}#sk-container-id-2 div.sk-label:hover label.sk-toggleable__label {background-color: #d4ebff;}#sk-container-id-2 div.sk-serial::before {content: \"\";position: absolute;border-left: 1px solid gray;box-sizing: border-box;top: 0;bottom: 0;left: 50%;z-index: 0;}#sk-container-id-2 div.sk-serial {display: flex;flex-direction: column;align-items: center;background-color: white;padding-right: 0.2em;padding-left: 0.2em;position: relative;}#sk-container-id-2 div.sk-item {position: relative;z-index: 1;}#sk-container-id-2 div.sk-parallel {display: flex;align-items: stretch;justify-content: center;background-color: white;position: relative;}#sk-container-id-2 div.sk-item::before, #sk-container-id-2 div.sk-parallel-item::before {content: \"\";position: absolute;border-left: 1px solid gray;box-sizing: border-box;top: 0;bottom: 0;left: 50%;z-index: -1;}#sk-container-id-2 div.sk-parallel-item {display: flex;flex-direction: column;z-index: 1;position: relative;background-color: white;}#sk-container-id-2 div.sk-parallel-item:first-child::after {align-self: flex-end;width: 50%;}#sk-container-id-2 div.sk-parallel-item:last-child::after {align-self: flex-start;width: 50%;}#sk-container-id-2 div.sk-parallel-item:only-child::after {width: 0;}#sk-container-id-2 div.sk-dashed-wrapped {border: 1px dashed gray;margin: 0 0.4em 0.5em 0.4em;box-sizing: border-box;padding-bottom: 0.4em;background-color: white;}#sk-container-id-2 div.sk-label label {font-family: monospace;font-weight: bold;display: inline-block;line-height: 1.2em;}#sk-container-id-2 div.sk-label-container {text-align: center;}#sk-container-id-2 div.sk-container {/* jupyter's `normalize.less` sets `[hidden] { display: none; }` but bootstrap.min.css set `[hidden] { display: none !important; }` so we also need the `!important` here to be able to override the default hidden behavior on the sphinx rendered scikit-learn.org. See: https://github.com/scikit-learn/scikit-learn/issues/21755 */display: inline-block !important;position: relative;}#sk-container-id-2 div.sk-text-repr-fallback {display: none;}</style><div id=\"sk-container-id-2\" class=\"sk-top-container\"><div class=\"sk-text-repr-fallback\"><pre>LogisticRegression(C=2, solver=&#x27;liblinear&#x27;)</pre><b>In a Jupyter environment, please rerun this cell to show the HTML representation or trust the notebook. <br />On GitHub, the HTML representation is unable to render, please try loading this page with nbviewer.org.</b></div><div class=\"sk-container\" hidden><div class=\"sk-item\"><div class=\"sk-estimator sk-toggleable\"><input class=\"sk-toggleable__control sk-hidden--visually\" id=\"sk-estimator-id-4\" type=\"checkbox\" checked><label for=\"sk-estimator-id-4\" class=\"sk-toggleable__label sk-toggleable__label-arrow\">LogisticRegression</label><div class=\"sk-toggleable__content\"><pre>LogisticRegression(C=2, solver=&#x27;liblinear&#x27;)</pre></div></div></div></div></div>"
      ],
      "text/plain": [
       "LogisticRegression(C=2, solver='liblinear')"
      ]
     },
     "execution_count": 41,
     "metadata": {},
     "output_type": "execute_result"
    }
   ],
   "source": [
    "gs.best_estimator_"
   ]
  },
  {
   "cell_type": "code",
   "execution_count": 42,
   "metadata": {},
   "outputs": [
    {
     "name": "stdout",
     "output_type": "stream",
     "text": [
      "score test : 0.8109756097560976\n"
     ]
    }
   ],
   "source": [
    "lr = LR(C=2, solver='liblinear')\n",
    "lr.fit(X_train, y_train)\n",
    "y_pred = lr.predict(X_test)\n",
    "\n",
    "print(f\"score test : {lr.score(X_test, y_test)}\")"
   ]
  },
  {
   "cell_type": "code",
   "execution_count": 51,
   "metadata": {},
   "outputs": [
    {
     "name": "stdout",
     "output_type": "stream",
     "text": [
      "epoch: 1000 cost: 0.685739 scoring: 0.595712\n",
      "epoch: 2000 cost: 0.681472 scoring: 0.595712\n",
      "epoch: 3000 cost: 0.678834 scoring: 0.595712\n",
      "epoch: 4000 cost: 0.677193 scoring: 0.595712\n",
      "epoch: 5000 cost: 0.676164 scoring: 0.595712\n",
      "epoch: 6000 cost: 0.675512 scoring: 0.595712\n",
      "epoch: 7000 cost: 0.675093 scoring: 0.595712\n",
      "epoch: 8000 cost: 0.674819 scoring: 0.595712\n",
      "epoch: 9000 cost: 0.674635 scoring: 0.595712\n",
      "epoch: 10000 cost: 0.674507 scoring: 0.595712\n",
      "epoch: 11000 cost: 0.674415 scoring: 0.595712\n",
      "epoch: 12000 cost: 0.674345 scoring: 0.595712\n",
      "epoch: 13000 cost: 0.674291 scoring: 0.595712\n",
      "epoch: 14000 cost: 0.674245 scoring: 0.595712\n",
      "epoch: 15000 cost: 0.674206 scoring: 0.595712\n",
      "epoch: 16000 cost: 0.674172 scoring: 0.595712\n",
      "epoch: 17000 cost: 0.674141 scoring: 0.595712\n",
      "epoch: 18000 cost: 0.674112 scoring: 0.595712\n",
      "epoch: 19000 cost: 0.674084 scoring: 0.595712\n",
      "epoch: 20000 cost: 0.674059 scoring: 0.595712\n",
      "epoch: 21000 cost: 0.674035 scoring: 0.595712\n",
      "epoch: 22000 cost: 0.674012 scoring: 0.595712\n",
      "epoch: 23000 cost: 0.673989 scoring: 0.595712\n",
      "epoch: 24000 cost: 0.673968 scoring: 0.595712\n",
      "epoch: 25000 cost: 0.673948 scoring: 0.595712\n",
      "epoch: 26000 cost: 0.673929 scoring: 0.595712\n",
      "epoch: 27000 cost: 0.673910 scoring: 0.595712\n",
      "epoch: 28000 cost: 0.673892 scoring: 0.595712\n",
      "epoch: 29000 cost: 0.673875 scoring: 0.595712\n",
      "epoch: 30000 cost: 0.673858 scoring: 0.595712\n",
      "epoch: 31000 cost: 0.673843 scoring: 0.595712\n",
      "epoch: 32000 cost: 0.673827 scoring: 0.595712\n",
      "epoch: 33000 cost: 0.673813 scoring: 0.595712\n",
      "epoch: 34000 cost: 0.673799 scoring: 0.595712\n",
      "epoch: 35000 cost: 0.673785 scoring: 0.595712\n",
      "epoch: 36000 cost: 0.673772 scoring: 0.595712\n",
      "epoch: 37000 cost: 0.673760 scoring: 0.595712\n",
      "epoch: 38000 cost: 0.673748 scoring: 0.595712\n",
      "epoch: 39000 cost: 0.673737 scoring: 0.595712\n",
      "epoch: 40000 cost: 0.673726 scoring: 0.595712\n",
      "epoch: 41000 cost: 0.673715 scoring: 0.595712\n",
      "epoch: 42000 cost: 0.673705 scoring: 0.595712\n",
      "epoch: 43000 cost: 0.673695 scoring: 0.595712\n",
      "epoch: 44000 cost: 0.673686 scoring: 0.595712\n",
      "epoch: 45000 cost: 0.673677 scoring: 0.595712\n",
      "epoch: 46000 cost: 0.673668 scoring: 0.595712\n",
      "epoch: 47000 cost: 0.673660 scoring: 0.595712\n",
      "epoch: 48000 cost: 0.673652 scoring: 0.595712\n",
      "epoch: 49000 cost: 0.673644 scoring: 0.595712\n",
      "epoch: 50000 cost: 0.673637 scoring: 0.595712\n",
      "epoch: 51000 cost: 0.673629 scoring: 0.595712\n",
      "epoch: 52000 cost: 0.673623 scoring: 0.595712\n",
      "epoch: 53000 cost: 0.673616 scoring: 0.595712\n",
      "epoch: 54000 cost: 0.673610 scoring: 0.595712\n",
      "epoch: 55000 cost: 0.673604 scoring: 0.595712\n",
      "epoch: 56000 cost: 0.673598 scoring: 0.595712\n",
      "epoch: 57000 cost: 0.673592 scoring: 0.595712\n",
      "epoch: 58000 cost: 0.673587 scoring: 0.595712\n",
      "epoch: 59000 cost: 0.673582 scoring: 0.595712\n",
      "epoch: 60000 cost: 0.673576 scoring: 0.595712\n",
      "epoch: 61000 cost: 0.673572 scoring: 0.595712\n",
      "epoch: 62000 cost: 0.673567 scoring: 0.595712\n",
      "epoch: 63000 cost: 0.673563 scoring: 0.595712\n",
      "epoch: 64000 cost: 0.673558 scoring: 0.595712\n",
      "epoch: 65000 cost: 0.673554 scoring: 0.595712\n",
      "epoch: 66000 cost: 0.673550 scoring: 0.595712\n",
      "epoch: 67000 cost: 0.673546 scoring: 0.595712\n",
      "epoch: 68000 cost: 0.673543 scoring: 0.595712\n",
      "epoch: 69000 cost: 0.673539 scoring: 0.595712\n",
      "epoch: 70000 cost: 0.673536 scoring: 0.595712\n",
      "epoch: 71000 cost: 0.673532 scoring: 0.595712\n",
      "epoch: 72000 cost: 0.673529 scoring: 0.595712\n",
      "epoch: 73000 cost: 0.673526 scoring: 0.595712\n",
      "epoch: 74000 cost: 0.673523 scoring: 0.595712\n",
      "epoch: 75000 cost: 0.673520 scoring: 0.595712\n",
      "epoch: 76000 cost: 0.673518 scoring: 0.595712\n",
      "epoch: 77000 cost: 0.673515 scoring: 0.595712\n",
      "epoch: 78000 cost: 0.673512 scoring: 0.595712\n",
      "epoch: 79000 cost: 0.673510 scoring: 0.595712\n",
      "epoch: 80000 cost: 0.673508 scoring: 0.595712\n",
      "epoch: 81000 cost: 0.673505 scoring: 0.595712\n",
      "epoch: 82000 cost: 0.673503 scoring: 0.595712\n",
      "epoch: 83000 cost: 0.673501 scoring: 0.595712\n",
      "epoch: 84000 cost: 0.673499 scoring: 0.595712\n",
      "epoch: 85000 cost: 0.673497 scoring: 0.595712\n",
      "epoch: 86000 cost: 0.673495 scoring: 0.595712\n",
      "epoch: 87000 cost: 0.673493 scoring: 0.595712\n",
      "epoch: 88000 cost: 0.673491 scoring: 0.595712\n",
      "epoch: 89000 cost: 0.673490 scoring: 0.595712\n",
      "epoch: 90000 cost: 0.673488 scoring: 0.595712\n",
      "epoch: 91000 cost: 0.673486 scoring: 0.595712\n",
      "epoch: 92000 cost: 0.673485 scoring: 0.595712\n",
      "epoch: 93000 cost: 0.673483 scoring: 0.595712\n",
      "epoch: 94000 cost: 0.673482 scoring: 0.595712\n",
      "epoch: 95000 cost: 0.673481 scoring: 0.595712\n",
      "epoch: 96000 cost: 0.673479 scoring: 0.595712\n",
      "epoch: 97000 cost: 0.673478 scoring: 0.595712\n",
      "epoch: 98000 cost: 0.673477 scoring: 0.595712\n",
      "epoch: 99000 cost: 0.673475 scoring: 0.595712\n",
      "loop break due to early stoping parameter\n"
     ]
    }
   ],
   "source": [
    "XX = X_train_rfe.reshape((3, -1))\n",
    "YY = y_train.values.reshape((1, -1))\n",
    "\n",
    "history = LogisticRegression(X=XX, Y=YY, maxValue=2, print_val=True, learning_rate=0.00005, beta1=0.9, beta2=0.99,\n",
    "                                                step=1000, early_stoping=100000, epsilon=1e-17, optimizer='sgd')"
   ]
  },
  {
   "cell_type": "code",
   "execution_count": null,
   "metadata": {},
   "outputs": [],
   "source": []
  }
 ],
 "metadata": {
  "kernelspec": {
   "display_name": "Python 3",
   "language": "python",
   "name": "python3"
  },
  "language_info": {
   "codemirror_mode": {
    "name": "ipython",
    "version": 3
   },
   "file_extension": ".py",
   "mimetype": "text/x-python",
   "name": "python",
   "nbconvert_exporter": "python",
   "pygments_lexer": "ipython3",
   "version": "3.11.3"
  },
  "orig_nbformat": 4
 },
 "nbformat": 4,
 "nbformat_minor": 2
}
